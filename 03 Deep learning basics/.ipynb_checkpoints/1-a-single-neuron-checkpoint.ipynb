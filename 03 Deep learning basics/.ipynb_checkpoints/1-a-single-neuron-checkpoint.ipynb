{
 "cells": [
  {
   "cell_type": "markdown",
   "id": "d2ad49fd-5b19-4971-b6bf-8de893f58ef3",
   "metadata": {},
   "source": [
    "# Lab 01 A single neuron\n",
    "\n",
    "<br>\n",
    "\n",
    "<center>\n",
    "    \n",
    "<img src=\"img/craiyon-neuron.jpg\" alt=\"Spam\" width=\"300\"/> \n",
    "    \n",
    "    Craiyon.com \"Single neuron\" \n",
    "    \n",
    "</center>    \n",
    "\n",
    "<br>"
   ]
  },
  {
   "cell_type": "markdown",
   "id": "80d10fdf",
   "metadata": {
    "papermill": {
     "duration": 0.006244,
     "end_time": "2022-05-05T17:51:42.959708",
     "exception": false,
     "start_time": "2022-05-05T17:51:42.953464",
     "status": "completed"
    },
    "tags": []
   },
   "source": [
    "## 1 Objectives\n",
    "\n",
    "\n",
    "This set of notebooks covers how to get started building your own deep neural networks. \n",
    "\n",
    "Using Keras and Tensorflow you'll learn how to:\n",
    "- create a **fully-connected** neural network architecture\n",
    "- apply neural nets to two classic ML problems: **regression** and **classification**\n",
    "- train neural nets with **stochastic gradient descent**, and\n",
    "- improve performance with **dropout**, **batch normalization**, and other techniques\n",
    "\n",
    "This first notebook covers:\n",
    "\n",
    "- Deep learning intro\n",
    "- linear unit (single neuron) concept\n",
    "- multiple inputs to a linear unit\n",
    "- implementing linear units in Keras\n",
    "\n"
   ]
  },
  {
   "cell_type": "markdown",
   "id": "f076400f-7af9-4d3e-9be9-a80ef1f93c2a",
   "metadata": {},
   "source": [
    "## 2 What is Deep Learning? \n",
    "\n",
    "Some of the most impressive advances in artificial intelligence in recent years have been in the field of *deep learning*. Natural language translation, image recognition, and game playing are all tasks where deep learning models have neared or even exceeded human-level performance.\n",
    "\n",
    "So what is deep learning? **Deep learning** is an approach to machine learning characterized by deep stacks of computations. This depth of computation is what has enabled deep learning models to disentangle the kinds of complex and hierarchical patterns found in the most challenging real-world datasets.\n",
    "\n",
    "Through their power and scalability **neural networks** have become the defining model of deep learning.  Neural networks are composed of neurons, where each neuron individually performs only a simple computation. The power of a neural network comes instead from the complexity of the connections these neurons can form.\n",
    "\n"
   ]
  },
  {
   "cell_type": "markdown",
   "id": "9f70bc00-419b-40e9-8cd4-ef805b7cd0f8",
   "metadata": {},
   "source": [
    "## 3 The Linear Unit \n",
    "\n",
    "So let's begin with the fundamental component of a neural network: the individual neuron. As a diagram, a **neuron** (or **unit**) with one input looks like:\n",
    "\n",
    "<center>\n",
    "<figure style=\"padding: 1em;\">\n",
    "<img src=\"IMG/1-1.png\" width=\"250\" alt=\"Diagram of a linear unit.\">\n",
    "<figcaption style=\"textalign: center; font-style: italic\">The Linear Unit: $y = w x + b$\n",
    "</figcaption>\n",
    "</figure>\n",
    "</center>\n",
    "\n",
    "The input is `x`. Its connection to the neuron has a **weight** which is `w`. Whenever a value flows through a connection, you multiply the value by the connection's weight. For the input `x`, what reaches the neuron is `w * x`. A neural network \"learns\" by modifying its weights.\n",
    "\n",
    "The `b` is a special kind of weight we call the **bias**. The bias doesn't have any input data associated with it; instead, we put a `1` in the diagram so that the value that reaches the neuron is just `b` (since `1 * b = b`). The bias enables the neuron to modify the output independently of its inputs.\n",
    "\n",
    "The `y` is the value the neuron ultimately outputs. To get the output, the neuron sums up all the values it receives through its connections. This neuron's activation is `y = w * x + b`, or as a formula $y = w x + b$.\n",
    "\n",
    "<br>\n",
    "\n",
    ">Does the formula $y=w x + b$ look familiar?\n",
    "\n",
    "<br>\n",
    "\n",
    "It's an equation of a line! It's the slope-intercept equation, where $w$ is the slope and $b$ is the y-intercept. \n"
   ]
  },
  {
   "cell_type": "markdown",
   "id": "ace11730",
   "metadata": {
    "papermill": {
     "duration": 0.004767,
     "end_time": "2022-05-05T17:51:42.969669",
     "exception": false,
     "start_time": "2022-05-05T17:51:42.964902",
     "status": "completed"
    },
    "tags": []
   },
   "source": [
    "## 4 Example - The Linear Unit as a Model\n",
    "\n",
    "Though individual neurons will usually only function as part of a larger network, it's often useful to start with a single neuron model as a baseline. Single neuron models are *linear* models. \n",
    "\n",
    "Let's think about how this might work on a dataset like [80 Cereals](https://www.kaggle.com/crawford/80-cereals). Training a model with `'sugars'` (grams of sugars per serving) as input and `'calories'` (calories per serving) as output, we might find the bias is `b=90` and the weight is `w=2.5`. We could estimate the calorie content of a cereal with 5 grams of sugar per serving like this:\n",
    "\n",
    "<figure style=\"padding: 1em;\">\n",
    "<img src=\"img/1-2.png\" width=\"1000\" alt=\"Computing with the linear unit.\">\n",
    "<figcaption style=\"textalign: center; font-style: italic\"><center>Computing with the linear unit.\n",
    "</center></figcaption>\n",
    "</figure>\n",
    "\n",
    "And, checking against our formula, we have $calories = 2.5 \\times 5 + 90 = 102.5$, just like we expect.\n",
    "\n"
   ]
  },
  {
   "cell_type": "markdown",
   "id": "d5b039d1-0bd6-4b49-9f66-c081fb4418be",
   "metadata": {},
   "source": [
    "## 5 Multiple Inputs \n",
    "\n",
    "The a dataset called *80 Cereals* there are many more features than just `'sugars'`. What if we wanted to expand our model to include things like fiber or protein content? That's easy enough. We can just add more input connections to the neuron, one for each additional feature. To find the output, we would multiply each input to its connection weight and then add them all together.\n",
    "<center>\n",
    "<figure style=\"padding: 1em;\">\n",
    "<img src=\"img/1-3.png\" width=\"300\" alt=\"Three input connections: x0, x1, and x2, along with the bias.\">\n",
    "    </figure>    \n",
    "<figcaption style=\"textalign: center; font-style: italic\">A linear unit with three inputs.\n",
    "</figcaption>\n",
    "</center>\n",
    "\n",
    "\n",
    "<br>\n",
    "\n",
    "The formula for this neuron would be $y = w_0 x_0 + w_1 x_1 + w_2 x_2 + b$. \n",
    "    \n",
    "A linear unit with two inputs will fit a plane, and a unit with more inputs than that will fit a hyperplane.\n",
    "\n"
   ]
  },
  {
   "cell_type": "markdown",
   "id": "405576dc-f98c-44cf-ac0f-b8e40e5aa578",
   "metadata": {},
   "source": [
    "## 6 Linear Units in Keras #\n",
    "\n",
    "The easiest way to create a model in Keras is through `keras.Sequential`, which creates a neural network as a stack of *layers*. We can create models like those above using a *dense* layer (which we'll learn more about in the next lesson).\n",
    "\n",
    "We could define a linear model accepting three input features (`'sugars'`, `'fiber'`, and `'protein'`) and producing a single output (`'calories'`) like so:"
   ]
  },
  {
   "cell_type": "code",
   "execution_count": 1,
   "id": "00ffc8c4",
   "metadata": {
    "papermill": {
     "duration": 6.622935,
     "end_time": "2022-05-05T17:51:49.597581",
     "exception": false,
     "start_time": "2022-05-05T17:51:42.974646",
     "status": "completed"
    },
    "tags": []
   },
   "outputs": [],
   "source": [
    "# you might need:\n",
    "# conda install tensorflow\n",
    "\n",
    "from tensorflow import keras\n",
    "from tensorflow.keras import layers\n",
    "\n",
    "# Create a network with 1 linear unit\n",
    "model = keras.Sequential([\n",
    "    layers.Dense(units=1, input_shape=[3])\n",
    "])"
   ]
  },
  {
   "cell_type": "markdown",
   "id": "823009aa",
   "metadata": {
    "papermill": {
     "duration": 0.005333,
     "end_time": "2022-05-05T17:51:49.609261",
     "exception": false,
     "start_time": "2022-05-05T17:51:49.603928",
     "status": "completed"
    },
    "tags": []
   },
   "source": [
    "<br>\n",
    "\n",
    "With the first argument in `layers.Dense()`, `units`, we define how many outputs we want. In this case we are just predicting `'calories'`, so we'll use `units=1`. \n",
    "\n",
    "With the second argument, `input_shape`, we tell Keras the dimensions of the inputs. Setting `input_shape=[3]` ensures the model will accept three features as input (`'sugars'`, `'fiber'`, and `'protein'`).\n",
    "\n",
    "This model is now ready to be fit to training data!\n",
    "\n",
    "\n"
   ]
  },
  {
   "cell_type": "markdown",
   "id": "29a71cf3",
   "metadata": {
    "papermill": {
     "duration": 0.005218,
     "end_time": "2022-05-05T17:51:49.620088",
     "exception": false,
     "start_time": "2022-05-05T17:51:49.614870",
     "status": "completed"
    },
    "tags": []
   },
   "source": [
    "## 7 Keras data\n",
    "\n",
    "\n",
    "The data we'll use here will be tabular data, like in a Pandas dataframe. We'll have one input for each feature in the dataset. The features are arranged by column, so we'll always have <code>input_shape=[num_columns]</code>.\n",
    "\n",
    "The reason Keras uses a list here is to permit use of more complex datasets. Image data, for instance, might need three dimensions: <code>[height, width, channels]</code>.\n",
    "</blockquote>\n",
    "\n"
   ]
  },
  {
   "cell_type": "markdown",
   "id": "bdc7e64e-dfad-4c5c-9f4c-d444570eb7f1",
   "metadata": {},
   "source": [
    "## 8 Exercises\n",
    "\n",
    "In the tutorial we learned about the building blocks of neural networks: *linear units*. We saw that a model of just one linear unit will fit a linear function to a dataset (equivalent to linear regression). In this exercise, you'll build a linear model and get some practice working with models in Keras.\n",
    "\n",
    "Before you get started, run the code cell below to set everything up."
   ]
  },
  {
   "cell_type": "code",
   "execution_count": 5,
   "id": "cab9b8c3-dd41-4353-950d-152dfdba476c",
   "metadata": {},
   "outputs": [],
   "source": [
    "# you might need:\n",
    "# conda install matplotlib\n",
    "\n",
    "# Setup plotting\n",
    "import matplotlib.pyplot as plt\n",
    "\n",
    "plt.style.use('seaborn-whitegrid')\n",
    "# Set Matplotlib defaults\n",
    "plt.rc('figure', autolayout=True)\n",
    "plt.rc('axes', labelweight='bold', labelsize='large',\n",
    "       titleweight='bold', titlesize=18, titlepad=10)\n"
   ]
  },
  {
   "cell_type": "markdown",
   "id": "39c87dec-e95f-4926-8a20-86f7d3495b90",
   "metadata": {},
   "source": [
    "<br>\n",
    "\n",
    "The *Red Wine Quality* dataset consists of physiochemical measurements from about 1600 Portuguese red wines.  Also included is a quality rating for each wine from blind taste-tests. \n",
    "\n",
    "First, run the next cell to display the first few rows of this dataset."
   ]
  },
  {
   "cell_type": "code",
   "execution_count": 6,
   "id": "44c3121f-8cac-4855-a789-ba33831f9694",
   "metadata": {},
   "outputs": [
    {
     "data": {
      "text/html": [
       "<div>\n",
       "<style scoped>\n",
       "    .dataframe tbody tr th:only-of-type {\n",
       "        vertical-align: middle;\n",
       "    }\n",
       "\n",
       "    .dataframe tbody tr th {\n",
       "        vertical-align: top;\n",
       "    }\n",
       "\n",
       "    .dataframe thead th {\n",
       "        text-align: right;\n",
       "    }\n",
       "</style>\n",
       "<table border=\"1\" class=\"dataframe\">\n",
       "  <thead>\n",
       "    <tr style=\"text-align: right;\">\n",
       "      <th></th>\n",
       "      <th>fixed acidity</th>\n",
       "      <th>volatile acidity</th>\n",
       "      <th>citric acid</th>\n",
       "      <th>residual sugar</th>\n",
       "      <th>chlorides</th>\n",
       "      <th>free sulfur dioxide</th>\n",
       "      <th>total sulfur dioxide</th>\n",
       "      <th>density</th>\n",
       "      <th>pH</th>\n",
       "      <th>sulphates</th>\n",
       "      <th>alcohol</th>\n",
       "      <th>quality</th>\n",
       "    </tr>\n",
       "  </thead>\n",
       "  <tbody>\n",
       "    <tr>\n",
       "      <th>0</th>\n",
       "      <td>7.4</td>\n",
       "      <td>0.70</td>\n",
       "      <td>0.00</td>\n",
       "      <td>1.9</td>\n",
       "      <td>0.076</td>\n",
       "      <td>11.0</td>\n",
       "      <td>34.0</td>\n",
       "      <td>0.9978</td>\n",
       "      <td>3.51</td>\n",
       "      <td>0.56</td>\n",
       "      <td>9.4</td>\n",
       "      <td>5</td>\n",
       "    </tr>\n",
       "    <tr>\n",
       "      <th>1</th>\n",
       "      <td>7.8</td>\n",
       "      <td>0.88</td>\n",
       "      <td>0.00</td>\n",
       "      <td>2.6</td>\n",
       "      <td>0.098</td>\n",
       "      <td>25.0</td>\n",
       "      <td>67.0</td>\n",
       "      <td>0.9968</td>\n",
       "      <td>3.20</td>\n",
       "      <td>0.68</td>\n",
       "      <td>9.8</td>\n",
       "      <td>5</td>\n",
       "    </tr>\n",
       "    <tr>\n",
       "      <th>2</th>\n",
       "      <td>7.8</td>\n",
       "      <td>0.76</td>\n",
       "      <td>0.04</td>\n",
       "      <td>2.3</td>\n",
       "      <td>0.092</td>\n",
       "      <td>15.0</td>\n",
       "      <td>54.0</td>\n",
       "      <td>0.9970</td>\n",
       "      <td>3.26</td>\n",
       "      <td>0.65</td>\n",
       "      <td>9.8</td>\n",
       "      <td>5</td>\n",
       "    </tr>\n",
       "    <tr>\n",
       "      <th>3</th>\n",
       "      <td>11.2</td>\n",
       "      <td>0.28</td>\n",
       "      <td>0.56</td>\n",
       "      <td>1.9</td>\n",
       "      <td>0.075</td>\n",
       "      <td>17.0</td>\n",
       "      <td>60.0</td>\n",
       "      <td>0.9980</td>\n",
       "      <td>3.16</td>\n",
       "      <td>0.58</td>\n",
       "      <td>9.8</td>\n",
       "      <td>6</td>\n",
       "    </tr>\n",
       "    <tr>\n",
       "      <th>4</th>\n",
       "      <td>7.4</td>\n",
       "      <td>0.70</td>\n",
       "      <td>0.00</td>\n",
       "      <td>1.9</td>\n",
       "      <td>0.076</td>\n",
       "      <td>11.0</td>\n",
       "      <td>34.0</td>\n",
       "      <td>0.9978</td>\n",
       "      <td>3.51</td>\n",
       "      <td>0.56</td>\n",
       "      <td>9.4</td>\n",
       "      <td>5</td>\n",
       "    </tr>\n",
       "  </tbody>\n",
       "</table>\n",
       "</div>"
      ],
      "text/plain": [
       "   fixed acidity  volatile acidity  citric acid  residual sugar  chlorides  \\\n",
       "0            7.4              0.70         0.00             1.9      0.076   \n",
       "1            7.8              0.88         0.00             2.6      0.098   \n",
       "2            7.8              0.76         0.04             2.3      0.092   \n",
       "3           11.2              0.28         0.56             1.9      0.075   \n",
       "4            7.4              0.70         0.00             1.9      0.076   \n",
       "\n",
       "   free sulfur dioxide  total sulfur dioxide  density    pH  sulphates  \\\n",
       "0                 11.0                  34.0   0.9978  3.51       0.56   \n",
       "1                 25.0                  67.0   0.9968  3.20       0.68   \n",
       "2                 15.0                  54.0   0.9970  3.26       0.65   \n",
       "3                 17.0                  60.0   0.9980  3.16       0.58   \n",
       "4                 11.0                  34.0   0.9978  3.51       0.56   \n",
       "\n",
       "   alcohol  quality  \n",
       "0      9.4        5  \n",
       "1      9.8        5  \n",
       "2      9.8        5  \n",
       "3      9.8        6  \n",
       "4      9.4        5  "
      ]
     },
     "execution_count": 6,
     "metadata": {},
     "output_type": "execute_result"
    }
   ],
   "source": [
    "import pandas as pd\n",
    "\n",
    "red_wine = pd.read_csv('data/red-wine.csv')\n",
    "red_wine.head()"
   ]
  },
  {
   "cell_type": "markdown",
   "id": "05829c9f-ae31-4a9f-90fb-360400bf788f",
   "metadata": {},
   "source": [
    "<br>\n",
    "\n",
    "You can get the number of rows and columns of a dataframe (or a Numpy array) with the `shape` attribute."
   ]
  },
  {
   "cell_type": "code",
   "execution_count": 7,
   "id": "ae1b079d-b729-4a77-9270-f7dee2c3dd54",
   "metadata": {},
   "outputs": [
    {
     "data": {
      "text/plain": [
       "(1599, 12)"
      ]
     },
     "execution_count": 7,
     "metadata": {},
     "output_type": "execute_result"
    }
   ],
   "source": [
    "red_wine.shape # (rows, columns)"
   ]
  },
  {
   "cell_type": "markdown",
   "id": "ba5ca6b5-2676-4983-b5c0-63b89981c619",
   "metadata": {},
   "source": [
    "### 8.1 Input shape #\n",
    "\n",
    "How well can we predict a wine's perceived quality from the physiochemical measurements?  \n",
    "\n",
    "The target is `'quality'`, and the remaining columns are the features.  How would you set the `input_shape` parameter for a Keras model on this task?"
   ]
  },
  {
   "cell_type": "code",
   "execution_count": null,
   "id": "89baee10-eefd-43be-ab7f-20beedbe953f",
   "metadata": {
    "lines_to_next_cell": 0
   },
   "outputs": [],
   "source": [
    "# YOUR CODE HERE\n",
    "# 3 input_shape = ____\n"
   ]
  },
  {
   "cell_type": "markdown",
   "id": "f3200e22-80f5-4712-a51b-034122f2b558",
   "metadata": {},
   "source": [
    "### 8.2 Define a linear model\n",
    "\n",
    "Now define a linear model appropriate for this task. Pay attention to how many inputs and outputs the model should have."
   ]
  },
  {
   "cell_type": "code",
   "execution_count": 8,
   "id": "4dbef842-7755-4dd0-b317-0f66d7c02145",
   "metadata": {
    "lines_to_next_cell": 0
   },
   "outputs": [],
   "source": [
    "from tensorflow import keras\n",
    "from tensorflow.keras import layers\n",
    "\n",
    "# YOUR CODE HERE\n",
    "# model = ____\n",
    "\n"
   ]
  },
  {
   "cell_type": "markdown",
   "id": "b5a1aeff-b0bf-4081-b00f-1e31a9816823",
   "metadata": {},
   "source": [
    "### 8.3 Look at the weights\n",
    "\n",
    "Internally, Keras represents the weights of a neural network with **tensors**. Tensors are basically TensorFlow's version of a Numpy array with a few differences that make them better suited to deep learning. One of the most important is that tensors are compatible with [GPU](https://www.kaggle.com/docs/efficient-gpu-usage) and [TPU](https://www.kaggle.com/docs/tpu)) accelerators. TPUs, in fact, are designed specifically for tensor computations.\n",
    "\n",
    "A model's weights are kept in its `weights` attribute as a list of tensors. Get the weights of the model you defined above. (If you want, you could display the weights with something like: `print(\"Weights\\n{}\\n\\nBias\\n{}\".format(w, b))`)."
   ]
  },
  {
   "cell_type": "code",
   "execution_count": 9,
   "id": "6df19dd6-c755-4f6d-9691-364fa85460de",
   "metadata": {
    "lines_to_next_cell": 0
   },
   "outputs": [],
   "source": [
    "# YOUR CODE HERE\n",
    "# w, b = ____\n",
    "\n"
   ]
  },
  {
   "cell_type": "markdown",
   "id": "fca8155a-c049-47bc-8e1e-b8de35a8f61b",
   "metadata": {},
   "source": [
    "<br>\n",
    "\n",
    "(By the way, Keras represents weights as tensors, but also uses tensors to represent data. When you set the `input_shape` argument, you are telling Keras the dimensions of the array it should expect for each example in the training data. Setting `input_shape=[3]` would create a network accepting vectors of length 3, like `[0.2, 0.4, 0.6]`.)\n",
    " \n",
    "\n",
    "### 8.4 Optional: Plot the output of an untrained linear model\n",
    " \n",
    "The kinds of problems we work on with *regression* problems is where the goal is to predict some numeric target. Regression problems are like \"curve-fitting\" problems: we're trying to find a curve that best fits the data. Let's take a look at the \"curve\" produced by a linear model. (You've probably guessed that it's a line!)\n",
    " \n",
    "We mentioned that before training a model's weights are set randomly. Run the cell below a few times to see the different lines produced with a random initialization. (There's no coding for this exercise -- it's just a demonstration.)"
   ]
  },
  {
   "cell_type": "code",
   "execution_count": 1,
   "id": "0616c636-4b2f-473b-96f8-0e05498b7fb3",
   "metadata": {
    "lines_to_next_cell": 0
   },
   "outputs": [
    {
     "name": "stdout",
     "output_type": "stream",
     "text": [
      "4/4 [==============================] - 0s 2ms/step\n"
     ]
    }
   ],
   "source": [
    "from tensorflow import keras\n",
    "from tensorflow.keras import layers\n",
    "import tensorflow as tf\n",
    "import matplotlib.pyplot as plt\n",
    "\n",
    "model = keras.Sequential([\n",
    "    layers.Dense(1, input_shape=[1]),\n",
    "])\n",
    "\n",
    "x = tf.linspace(-1.0, 1.0, 100)\n",
    "y = model.predict(x)\n",
    "\n"
   ]
  },
  {
   "cell_type": "code",
   "execution_count": 2,
   "id": "86de63fe-99e3-4475-a9f6-26db6127caf0",
   "metadata": {},
   "outputs": [
    {
     "name": "stdout",
     "output_type": "stream",
     "text": [
      "<class 'tensorflow.python.framework.ops.EagerTensor'>\n",
      "<class 'numpy.ndarray'>\n"
     ]
    }
   ],
   "source": [
    "print(type(x))\n",
    "print(type(y))"
   ]
  },
  {
   "cell_type": "code",
   "execution_count": null,
   "id": "75503806-9aa8-4570-9567-4315371b3653",
   "metadata": {},
   "outputs": [],
   "source": [
    "# Ignore this for now\n",
    "\n",
    "# plt.figure(dpi=100)\n",
    "# plt.plot(x, y, 'k')\n",
    "# plt.xlim(-1, 1)\n",
    "# plt.ylim(-1, 1)\n",
    "# plt.xlabel(\"Input: x\")\n",
    "# plt.ylabel(\"Target y\")\n",
    "# w, b = model.weights # you could also use model.get_weights() here\n",
    "# plt.title(\"Weight: {:0.2f}\\nBias: {:0.2f}\".format(w[0][0], b[0]))\n",
    "# plt.show()"
   ]
  },
  {
   "cell_type": "code",
   "execution_count": null,
   "id": "3a02c4b3-5382-416f-a968-fbc30dd30efc",
   "metadata": {},
   "outputs": [],
   "source": []
  }
 ],
 "metadata": {
  "jupytext": {
   "formats": "ipynb"
  },
  "kernelspec": {
   "display_name": "Python 3 (ipykernel)",
   "language": "python",
   "name": "python3"
  },
  "language_info": {
   "codemirror_mode": {
    "name": "ipython",
    "version": 3
   },
   "file_extension": ".py",
   "mimetype": "text/x-python",
   "name": "python",
   "nbconvert_exporter": "python",
   "pygments_lexer": "ipython3",
   "version": "3.7.13"
  },
  "papermill": {
   "default_parameters": {},
   "duration": 19.692016,
   "end_time": "2022-05-05T17:51:52.457795",
   "environment_variables": {},
   "exception": null,
   "input_path": "__notebook__.ipynb",
   "output_path": "__notebook__.ipynb",
   "parameters": {},
   "start_time": "2022-05-05T17:51:32.765779",
   "version": "2.3.4"
  }
 },
 "nbformat": 4,
 "nbformat_minor": 5
}
